{
 "cells": [
  {
   "cell_type": "code",
   "execution_count": 3,
   "metadata": {},
   "outputs": [],
   "source": [
    "import pandas as pd\n",
    "\n",
    "# 读取CSV文件\n",
    "df = pd.read_csv(\"lux-eff.csv\")\n",
    "\n",
    "# 定义一个函数来根据波长找到对应的光通量效率\n",
    "def get_efficacy(wavelength):\n",
    "    # 用波长找到对应的行\n",
    "    row = df[df['wavelength'] == wavelength]\n",
    "    if len(row) == 0:\n",
    "        raise ValueError(\"No efficacy data for wavelength {} nm\".format(wavelength))\n",
    "    return row['efficacy'].values[0]\n",
    "\n",
    "# 定义一个函数来将lux转换为辐照度\n",
    "def lux_to_irradiance(lux, wavelength):\n",
    "    efficacy = get_efficacy(wavelength)\n",
    "    return lux / efficacy\n",
    "\n"
   ]
  },
  {
   "cell_type": "code",
   "execution_count": 4,
   "metadata": {},
   "outputs": [
    {
     "name": "stdout",
     "output_type": "stream",
     "text": [
      "Irradiance for 555 nm light with intensity 1000 lux is 1000.0 W/m^2\n"
     ]
    }
   ],
   "source": [
    "# 测试函数\n",
    "wavelength = 555  # nm\n",
    "lux = 1000        # lm/m^2\n",
    "print(\"Irradiance for {} nm light with intensity {} lux is {} W/m^2\".format(wavelength, lux, lux_to_irradiance(lux, wavelength)))"
   ]
  }
 ],
 "metadata": {
  "kernelspec": {
   "display_name": "Python 3",
   "language": "python",
   "name": "python3"
  },
  "language_info": {
   "codemirror_mode": {
    "name": "ipython",
    "version": 3
   },
   "file_extension": ".py",
   "mimetype": "text/x-python",
   "name": "python",
   "nbconvert_exporter": "python",
   "pygments_lexer": "ipython3",
   "version": "3.7.6"
  }
 },
 "nbformat": 4,
 "nbformat_minor": 4
}
